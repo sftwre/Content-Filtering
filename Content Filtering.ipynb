{
 "cells": [
  {
   "cell_type": "markdown",
   "metadata": {},
   "source": [
    "# Load book data and hash bi-grams"
   ]
  },
  {
   "cell_type": "code",
   "execution_count": 13,
   "metadata": {},
   "outputs": [
    {
     "name": "stderr",
     "output_type": "stream",
     "text": [
      "[nltk_data] Downloading package stopwords to\n",
      "[nltk_data]     /Users/isaacbuitrago/nltk_data...\n",
      "[nltk_data]   Package stopwords is already up-to-date!\n"
     ]
    }
   ],
   "source": [
    "import nltk\n",
    "import time\n",
    "import heapq\n",
    "import math\n",
    "import binascii\n",
    "import numpy as np\n",
    "import pandas as pd\n",
    "import matplotlib.pyplot as plt\n",
    "from nltk.corpus import stopwords\n",
    "from collections import defaultdict\n",
    "\n",
    "# download stopwords\n",
    "nltk.download('stopwords')\n",
    "sw = stopwords.words('english')\n",
    "\n",
    "# load data\n",
    "file = open('./Shingle_data/articles-1000.txt', 'r')\n",
    "\n",
    "corpus = []\n",
    "articleMap = {}\n",
    "\n",
    "\"\"\"\n",
    "map each article id to a set of shingleID's (hashed 32-bit int)\n",
    "and create a corpus of shingles for each article\n",
    "\"\"\"\n",
    "for row in file:\n",
    " \n",
    "    # split corpus into list of words\n",
    "    article = row.lower().split()\n",
    "    \n",
    "    # remove article ID\n",
    "    articleID = article[0]\n",
    "    del article[0]\n",
    "    \n",
    "    # remove stopwords\n",
    "    article = list(filter(lambda x: x not in sw, article))\n",
    "            \n",
    "    # generate shingles and add to corpus\n",
    "    shingles = list(nltk.bigrams(article))\n",
    "    shingles = list(map(' '.join, shingles))\n",
    "    corpus.append(shingles)\n",
    "    \n",
    "    # hash each shingle into a 32-bit integer\n",
    "    shingleIDs = set(map(lambda x:binascii.crc32(bytes(x, 'UTF-8')) & 0xffffffff, shingles))\n",
    "    articleMap[articleID] = shingleIDs"
   ]
  },
  {
   "cell_type": "markdown",
   "metadata": {},
   "source": [
    "# Find unique shingles in books"
   ]
  },
  {
   "cell_type": "code",
   "execution_count": 14,
   "metadata": {},
   "outputs": [
    {
     "name": "stdout",
     "output_type": "stream",
     "text": [
      "128213\n"
     ]
    }
   ],
   "source": [
    "# total number of unique shingles across books\n",
    "ttlShingles = 0\n",
    "uniqueShingles = set()\n",
    "\n",
    "for shingleIDs in articleMap.values():\n",
    "    uniqueShingles.update(shingleIDs)\n",
    "    ttlShingles += len(shingleIDs)\n",
    "\n",
    "print(len(uniqueShingles))"
   ]
  },
  {
   "cell_type": "markdown",
   "metadata": {},
   "source": [
    "# Avg shingles per book"
   ]
  },
  {
   "cell_type": "code",
   "execution_count": 15,
   "metadata": {},
   "outputs": [
    {
     "name": "stdout",
     "output_type": "stream",
     "text": [
      "164.034\n"
     ]
    }
   ],
   "source": [
    "# avg number of shingles per book\n",
    "print(ttlShingles / len(articleMap))"
   ]
  },
  {
   "cell_type": "markdown",
   "metadata": {},
   "source": [
    "# Build signature matrix"
   ]
  },
  {
   "cell_type": "code",
   "execution_count": 16,
   "metadata": {},
   "outputs": [],
   "source": [
    "p = 4294967311\n",
    "\n",
    "# number of hash functions\n",
    "n_hash = 10\n",
    "\n",
    "# random hash function constants\n",
    "c1 = np.random.randint(low=1, high=p, size=n_hash, dtype=np.int64)\n",
    "c2 = np.random.randint(low=1, high=p, size=n_hash, dtype=np.int64)\n",
    "\n",
    "# random hash function\n",
    "rand_h = lambda i, x: (c1[i] * x + c2[i]) % p\n",
    "\n",
    "articleIDs = list(articleMap.keys())\n",
    "\n",
    "def getId(i):\n",
    "    return articleIDs[i]\n",
    "\n",
    "def buildSig(n_rows=10, n_articles=1000): \n",
    "\n",
    "    sigMat = np.zeros((n_rows, n_articles), dtype=int)\n",
    "    \n",
    "    rows = np.arange(n_rows)\n",
    "    \n",
    "    def minHash(r):        \n",
    "        ci = r if r < n_hash else n_hash-1\n",
    "        # hash shingles with random hash\n",
    "        hx = rand_h(ci, shingles)\n",
    "        return min(hx)\n",
    "\n",
    "\n",
    "    # find the min signature for the set of shingles\n",
    "    for i in range(n_articles):\n",
    "        # shingles for article\n",
    "        shingles = np.array(list(articleMap[articleIDs[i]]))\n",
    "        sign = list(map(minHash, rows))\n",
    "        sigMat[:, i] = sign\n",
    "        \n",
    "    return sigMat"
   ]
  },
  {
   "cell_type": "markdown",
   "metadata": {},
   "source": [
    "# Find bookID most similair to the first book"
   ]
  },
  {
   "cell_type": "code",
   "execution_count": 17,
   "metadata": {},
   "outputs": [
    {
     "name": "stdout",
     "output_type": "stream",
     "text": [
      "BookId: t7998\n",
      "Estimated Jaccard: 1.0\n",
      "True Jaccard: 1.0\n"
     ]
    }
   ],
   "source": [
    "n_articles = 1000\n",
    "\n",
    "sigMat = buildSig()\n",
    "\n",
    "# compare signature vector of first article with the others\n",
    "sigVecs = np.zeros(n_articles)\n",
    "\n",
    "for i in range(1, n_articles):\n",
    "    sigVecs[i] = np.sum(sigMat[:, 0] == sigMat[:, i]) / n_hash\n",
    "    \n",
    "# most similair article \n",
    "msa = np.argmax(sigVecs)\n",
    "msaID = articleIDs[msa]\n",
    "\n",
    "# ID of first article\n",
    "faID = articleIDs[0]\n",
    "\n",
    "# compute true jaccard with first article\n",
    "inter = len(articleMap[faID] & articleMap[msaID])\n",
    "union = len(articleMap[faID] | articleMap[msaID])\n",
    "js = inter / union\n",
    "\n",
    "\n",
    "print(f\"BookId: {msaID}\")\n",
    "print(f\"Estimated Jaccard: {sigVecs[msa]}\")\n",
    "print(f\"True Jaccard: {js}\")"
   ]
  },
  {
   "cell_type": "markdown",
   "metadata": {},
   "source": [
    "# LSH"
   ]
  },
  {
   "cell_type": "code",
   "execution_count": 18,
   "metadata": {},
   "outputs": [],
   "source": [
    "def lsh(sigMat, ai, bands=1, rows=2) -> set:\n",
    "    \"\"\"\n",
    "    Local sensitivity hashing\n",
    "    \n",
    "    :arg sigMat: signature matrix\n",
    "    :arg ai: article index to find similairity for\n",
    "    :arg bands: number of bands in signature matrix\n",
    "    :arg rows: number of rows in each band\n",
    "    :return: set with article indexes similair to ai\n",
    "    \"\"\"\n",
    "    i = 0\n",
    "    p = 4294967311\n",
    "\n",
    "    # index of article similair to first\n",
    "    S = set()\n",
    "    \n",
    "    # index of random constants for hash function\n",
    "    ci = np.random.randint(10)\n",
    "        \n",
    "    for b in range(bands):\n",
    "        \n",
    "        band = sigMat[i:i+rows, :]\n",
    "        # TODO fix\n",
    "        key1 = rand_h(ci, band[:,ai]).sum()\n",
    "\n",
    "        # hash entries in each col and add colliding keys to S\n",
    "        for col in range(band.shape[1]):\n",
    "            if col == ai:\n",
    "                continue\n",
    "            key = rand_h(ci, band[:, col]).sum()\n",
    "            if key == key1:\n",
    "                S.add(col)\n",
    "\n",
    "        i += rows\n",
    "        \n",
    "    return S\n",
    "\n",
    "def JS(s1:set, s2:set) -> float:\n",
    "    \"\"\"\n",
    "    Computes jaccard similarity between two sets\n",
    "    \"\"\"\n",
    "    inter = len(s1 & s2)\n",
    "    union = len(s1 | s2)\n",
    "    js = inter / union\n",
    "    return js\n",
    "    \n",
    "\n",
    "def jSim(i, j) -> float:\n",
    "    \"\"\"\n",
    "    Computes jaccard similarity between articles i & j.\n",
    "    \n",
    "    :arg i: index of i'th article id in articleIDs list\n",
    "    :arg j: index of j'th article id in articleIDs list\n",
    "    \"\"\"\n",
    "    id1 = articleIDs[i]\n",
    "    id2 = articleIDs[j]\n",
    "    return JS(articleMap[id1], articleMap[id2])\n",
    "    \n",
    "def fpRate(t, S) -> float:\n",
    "    \"\"\"\n",
    "    Computes percentage of false positives in set S\n",
    "    :arg t: cutoff rate for similarity with the first article\n",
    "    \"\"\"\n",
    "    js = np.array(list(map(lambda a: jSim(0, a), S)))\n",
    "    fp = (js < t).sum()\n",
    "    return fp / len(S)"
   ]
  },
  {
   "cell_type": "markdown",
   "metadata": {},
   "source": [
    "# Compute FP rate for different band/row pairs"
   ]
  },
  {
   "cell_type": "code",
   "execution_count": 19,
   "metadata": {},
   "outputs": [
    {
     "data": {
      "image/png": "[encoded data removed]",
      "text/plain": [
       "<Figure size 432x288 with 1 Axes>"
      ]
     },
     "metadata": {
      "needs_background": "light"
     },
     "output_type": "display_data"
    },
    {
     "data": {
      "image/png": "[encoded data removed]",
      "text/plain": [
       "<Figure size 432x288 with 1 Axes>"
      ]
     },
     "metadata": {
      "needs_background": "light"
     },
     "output_type": "display_data"
    }
   ],
   "source": [
    "t = 0.8\n",
    "r = 2\n",
    "b = 10\n",
    "iters = 10\n",
    "\n",
    "# size of row/band configurations\n",
    "sizes = [1, 3, 5, 7, 9]\n",
    "pairs = len(sizes)\n",
    "\n",
    "# avg fp vector for bands and row sizes\n",
    "fpB = np.zeros(pairs)\n",
    "fpR = np.zeros(pairs)\n",
    "\n",
    "def iterPairs(band, row):\n",
    "    \n",
    "    # build signature matrix with n rows and 1000 cols\n",
    "    n = band * row\n",
    "    \n",
    "    sigMat = buildSig(n_rows=n)\n",
    "    \n",
    "    # find articles similair to the first\n",
    "    S = lsh(sigMat,0, bands=band, rows=row)\n",
    "    \n",
    "    # compute fp rate with similair articles\n",
    "    fp = fpRate(t, S)\n",
    "    return fp\n",
    "\n",
    "def plotFPRate(x, y, title, xtitle):\n",
    "    plt.figure()\n",
    "    plt.plot(x, y)\n",
    "    plt.title(title)\n",
    "    plt.xticks(x)\n",
    "    plt.xlabel(f'{xtitle} Size')\n",
    "    plt.ylabel('FP Rate')\n",
    "    plt.savefig(f'./plots/{xtitle}_config.png')\n",
    "    \n",
    "    \n",
    "# realize fp rate for 10 different signature matrices\n",
    "for i in range(iters):\n",
    "    fpB += np.array(list(map(iterPairs, sizes, [r] * pairs)))\n",
    "    fpR += np.array(list(map(iterPairs, [b] * pairs, sizes)))\n",
    "    \n",
    "fpB = fpB / iters\n",
    "fpR = fpR / iters\n",
    "\n",
    "plotFPRate(sizes, fpB, 'FP Rate for band sizes with 2 rows', 'Band')\n",
    "plotFPRate(sizes, fpR, 'FP Rate for row sizes with 10 bands', 'Row')"
   ]
  },
  {
   "cell_type": "code",
   "execution_count": 20,
   "metadata": {},
   "outputs": [],
   "source": [
    "\n",
    "def topN(n, sigMat):\n",
    "    \"\"\"\n",
    "    Finds top N most similar article pairs without any approximation.\n",
    "    \"\"\"\n",
    "    heap = []\n",
    "\n",
    "    for i in range(n_articles):\n",
    "        maxJS = 0.\n",
    "        simCol = i\n",
    "        for j in range(n_articles):\n",
    "            if j == i:\n",
    "                continue\n",
    "            sim = np.sum(sigMat[:, i] == sigMat[:, j]) / n_hash\n",
    "            if sim > maxJS:\n",
    "                maxJS = sim\n",
    "                simCol = j\n",
    "                \n",
    "        heapq.heappush(heap, (-maxJS, i, simCol))\n",
    "        \n",
    "    return(heapq.nsmallest(n, heap))\n",
    "\n",
    "\n",
    "def topNLSH(n, sigMat, bands, rows):\n",
    "    \"\"\"\n",
    "    Finds top N most similar article pairs using LSH\n",
    "    \"\"\"\n",
    "    heap = []\n",
    "\n",
    "    for i in range(n_articles):\n",
    "        # find articles similair to the first\n",
    "        S = lsh(sigMat, 0, bands=bands, rows=rows)\n",
    "        maxJS = 0\n",
    "        for j in S:\n",
    "            if i == j:\n",
    "                continue\n",
    "            js = jSim(i, j)\n",
    "            if js > maxJS:\n",
    "                maxJS = js\n",
    "                simCol = j\n",
    "                \n",
    "        heapq.heappush(heap, (-maxJS, i, simCol))\n",
    "        \n",
    "    return(heapq.nsmallest(n, heap))\n",
    "\n",
    "def reportTopN(topN):\n",
    "    for js, id1, id2 in topN:\n",
    "        a1 = getId(id1)\n",
    "        a2 = getId(id2)\n",
    "        print(f'{-js:.2f} JS - {a1}, {a2}')"
   ]
  },
  {
   "cell_type": "markdown",
   "metadata": {},
   "source": [
    "# Find top5 most similair articles w/o approximation"
   ]
  },
  {
   "cell_type": "code",
   "execution_count": 21,
   "metadata": {},
   "outputs": [
    {
     "name": "stdout",
     "output_type": "stream",
     "text": [
      "Top 5 query took 8.1807 sec\n",
      "5 most similair articles:\n",
      "1.00 JS - t120, t7998\n",
      "1.00 JS - t980, t2023\n",
      "1.00 JS - t1088, t5015\n",
      "1.00 JS - t1297, t4638\n",
      "1.00 JS - t1768, t5248\n"
     ]
    }
   ],
   "source": [
    "# build default signature matrix\n",
    "sigMat = buildSig()\n",
    "\n",
    "t1 = time.perf_counter()\n",
    "top5 = topN(5, sigMat)\n",
    "t2 = time.perf_counter()\n",
    "\n",
    "print(f'Top 5 query took {t2-t1:0.4f} sec')\n",
    "print('5 most similair articles:')\n",
    "\n",
    "reportTopN(top5)"
   ]
  },
  {
   "cell_type": "markdown",
   "metadata": {},
   "source": [
    "# Find top5 most similair articles using LSH"
   ]
  },
  {
   "cell_type": "code",
   "execution_count": 22,
   "metadata": {},
   "outputs": [
    {
     "name": "stdout",
     "output_type": "stream",
     "text": [
      "Bands - 1, Rows - 5\n",
      "Top 5 query took 8.7078 sec\n",
      "5 most similair articles:\n",
      "1.00 JS - t120, t7998\n",
      "0.57 JS - t311, t7998\n",
      "0.54 JS - t945, t7998\n",
      "0.53 JS - t576, t7998\n",
      "0.53 JS - t966, t7998\n"
     ]
    }
   ],
   "source": [
    "# 5 most similar article pairs using LHS\n",
    "b = 1\n",
    "r = 5\n",
    "\n",
    "sigMat = buildSig(b*r)\n",
    "\n",
    "t1 = time.perf_counter()\n",
    "top5 = topNLSH(5, sigMat, b, r)\n",
    "t2 = time.perf_counter()\n",
    "\n",
    "print(f'Bands - {b}, Rows - {r}')\n",
    "print(f'Top 5 query took {t2-t1:0.4f} sec')\n",
    "print('5 most similair articles:')\n",
    "\n",
    "reportTopN(top5)"
   ]
  }
 ],
 "metadata": {
  "kernelspec": {
   "display_name": "Python 3",
   "language": "python",
   "name": "python3"
  },
  "language_info": {
   "codemirror_mode": {
    "name": "ipython",
    "version": 3
   },
   "file_extension": ".py",
   "mimetype": "text/x-python",
   "name": "python",
   "nbconvert_exporter": "python",
   "pygments_lexer": "ipython3",
   "version": "3.7.9"
  }
 },
 "nbformat": 4,
 "nbformat_minor": 4
}
